{
 "cells": [
  {
   "cell_type": "code",
   "execution_count": 2,
   "metadata": {},
   "outputs": [],
   "source": [
    "import torch\n",
    "import pandas as pd\n",
    "import pickle\n",
    "import numpy as np\n",
    "import time"
   ]
  },
  {
   "cell_type": "code",
   "execution_count": 3,
   "metadata": {},
   "outputs": [],
   "source": [
    "ratings = pd.read_pickle(\"../data/ml-1m-split/train.pkl\")\n"
   ]
  },
  {
   "cell_type": "code",
   "execution_count": 4,
   "metadata": {},
   "outputs": [],
   "source": [
    "interactions = ratings.drop([\"item_id\", \"rating\"], axis=1)"
   ]
  },
  {
   "cell_type": "code",
   "execution_count": 5,
   "metadata": {},
   "outputs": [],
   "source": [
    "interactions_sorted = interactions.sort_values(by=[\"user\", \"timestamp\"])"
   ]
  },
  {
   "cell_type": "code",
   "execution_count": 12,
   "metadata": {},
   "outputs": [
    {
     "name": "stdout",
     "output_type": "stream",
     "text": [
      "6040\n"
     ]
    }
   ],
   "source": [
    "prev_user = 0\n",
    "prev_list = []\n",
    "user_items = []\n",
    "i = 1\n",
    "for row in interactions_sorted.itertuples(index=False):\n",
    "  if row.user == prev_user:\n",
    "    prev_list.append(row.item)\n",
    "  else:\n",
    "    i += 1\n",
    "    assert(row.user == prev_user + 1)\n",
    "    assert(len(prev_list) > 0)\n",
    "    user_items.append(np.asarray(prev_list))\n",
    "    prev_list = [row.item]\n",
    "    prev_user = row.user\n",
    "    if prev_user % 10000 == 0:\n",
    "      print(prev_user)\n",
    "\n",
    "\n",
    "user_items.append(np.asarray(prev_list))\n",
    "      \n",
    "print(i)"
   ]
  },
  {
   "cell_type": "code",
   "execution_count": 13,
   "metadata": {},
   "outputs": [],
   "source": [
    "user_items = np.asarray(user_items)"
   ]
  },
  {
   "cell_type": "code",
   "execution_count": 14,
   "metadata": {},
   "outputs": [
    {
     "data": {
      "text/plain": [
       "6040"
      ]
     },
     "execution_count": 14,
     "metadata": {},
     "output_type": "execute_result"
    }
   ],
   "source": [
    "len(user_items)"
   ]
  },
  {
   "cell_type": "code",
   "execution_count": 15,
   "metadata": {},
   "outputs": [],
   "source": [
    "np.save(\"../data/user_items_1m.npy\", user_items)"
   ]
  },
  {
   "cell_type": "code",
   "execution_count": 101,
   "metadata": {},
   "outputs": [],
   "source": [
    "with open(\"../data/user_items.pkl\", \"wb\") as f:\n",
    "  pickle.dump(user_items, f)"
   ]
  },
  {
   "cell_type": "code",
   "execution_count": 33,
   "metadata": {},
   "outputs": [
    {
     "data": {
      "text/plain": [
       "138492"
      ]
     },
     "execution_count": 33,
     "metadata": {},
     "output_type": "execute_result"
    }
   ],
   "source": [
    "len(user_items)"
   ]
  },
  {
   "cell_type": "code",
   "execution_count": 39,
   "metadata": {},
   "outputs": [
    {
     "data": {
      "text/html": [
       "<div>\n",
       "<style scoped>\n",
       "    .dataframe tbody tr th:only-of-type {\n",
       "        vertical-align: middle;\n",
       "    }\n",
       "\n",
       "    .dataframe tbody tr th {\n",
       "        vertical-align: top;\n",
       "    }\n",
       "\n",
       "    .dataframe thead th {\n",
       "        text-align: right;\n",
       "    }\n",
       "</style>\n",
       "<table border=\"1\" class=\"dataframe\">\n",
       "  <thead>\n",
       "    <tr style=\"text-align: right;\">\n",
       "      <th></th>\n",
       "      <th>user</th>\n",
       "      <th>item</th>\n",
       "      <th>timestamp</th>\n",
       "    </tr>\n",
       "  </thead>\n",
       "  <tbody>\n",
       "    <tr>\n",
       "      <th>19</th>\n",
       "      <td>0</td>\n",
       "      <td>902</td>\n",
       "      <td>1094785621</td>\n",
       "    </tr>\n",
       "    <tr>\n",
       "      <th>86</th>\n",
       "      <td>0</td>\n",
       "      <td>2597</td>\n",
       "      <td>1094785650</td>\n",
       "    </tr>\n",
       "    <tr>\n",
       "      <th>61</th>\n",
       "      <td>0</td>\n",
       "      <td>1532</td>\n",
       "      <td>1094785656</td>\n",
       "    </tr>\n",
       "    <tr>\n",
       "      <th>18</th>\n",
       "      <td>0</td>\n",
       "      <td>645</td>\n",
       "      <td>1094785691</td>\n",
       "    </tr>\n",
       "    <tr>\n",
       "      <th>96</th>\n",
       "      <td>0</td>\n",
       "      <td>2873</td>\n",
       "      <td>1094785698</td>\n",
       "    </tr>\n",
       "    <tr>\n",
       "      <th>...</th>\n",
       "      <td>...</td>\n",
       "      <td>...</td>\n",
       "      <td>...</td>\n",
       "    </tr>\n",
       "    <tr>\n",
       "      <th>20000213</th>\n",
       "      <td>138492</td>\n",
       "      <td>10593</td>\n",
       "      <td>1260209726</td>\n",
       "    </tr>\n",
       "    <tr>\n",
       "      <th>20000187</th>\n",
       "      <td>138492</td>\n",
       "      <td>9271</td>\n",
       "      <td>1260209807</td>\n",
       "    </tr>\n",
       "    <tr>\n",
       "      <th>20000140</th>\n",
       "      <td>138492</td>\n",
       "      <td>6424</td>\n",
       "      <td>1260209908</td>\n",
       "    </tr>\n",
       "    <tr>\n",
       "      <th>19999965</th>\n",
       "      <td>138492</td>\n",
       "      <td>1247</td>\n",
       "      <td>1262378552</td>\n",
       "    </tr>\n",
       "    <tr>\n",
       "      <th>19999916</th>\n",
       "      <td>138492</td>\n",
       "      <td>401</td>\n",
       "      <td>1262378572</td>\n",
       "    </tr>\n",
       "  </tbody>\n",
       "</table>\n",
       "<p>13999448 rows × 3 columns</p>\n",
       "</div>"
      ],
      "text/plain": [
       "            user   item   timestamp\n",
       "19             0    902  1094785621\n",
       "86             0   2597  1094785650\n",
       "61             0   1532  1094785656\n",
       "18             0    645  1094785691\n",
       "96             0   2873  1094785698\n",
       "...          ...    ...         ...\n",
       "20000213  138492  10593  1260209726\n",
       "20000187  138492   9271  1260209807\n",
       "20000140  138492   6424  1260209908\n",
       "19999965  138492   1247  1262378552\n",
       "19999916  138492    401  1262378572\n",
       "\n",
       "[13999448 rows x 3 columns]"
      ]
     },
     "execution_count": 39,
     "metadata": {},
     "output_type": "execute_result"
    }
   ],
   "source": [
    "interactions_sorted"
   ]
  },
  {
   "cell_type": "code",
   "execution_count": 16,
   "metadata": {},
   "outputs": [
    {
     "data": {
      "text/plain": [
       "array([array([2969, 1178, 1574, 2147, 1658, 3177, 2599, 1117,  689,  253,  593,\n",
       "       2488, 1781, 1848, 1838,  144, 1025, 1195, 1154,  639, 2710,  517,\n",
       "       2898, 2586,  580, 2205, 1421,  513, 2483,  708,  574,    0, 2162,\n",
       "       2102, 1439, 1727,   47]),\n",
       "       array([1108, 1127, 1201, 2735, 1104,  309, 2816, 1123, 1117, 3235, 2821,\n",
       "       1886, 2931, 2889, 1106, 1777, 1656, 1012, 1782, 3238, 3412, 3493,\n",
       "       1167, 1774, 1618, 2523, 1031,  841, 3219, 2645, 3107,  258, 2120,\n",
       "        576, 1161, 1152, 3457, 1775, 1153, 2046, 3436,  920, 2078, 1337,\n",
       "        228, 1024, 1047,  484, 1154, 3647, 1414, 1099, 2166, 2892, 1173,\n",
       "       3566,  575, 1848,  443, 2708, 1478,  157, 3186, 3032, 1306,   20,\n",
       "        339, 1406, 2160, 1826, 2234, 1623, 1273, 1428, 1286,  737, 2891,\n",
       "       1631,  159,  445,  428, 2426, 1553, 1822,  283,   92, 1550,  420,\n",
       "       1420, 1737]),\n",
       "       array([ 579, 2651, 3301, 1788, 1327, 1174, 1279, 1280,  576,  253, 1106,\n",
       "       2664, 1107, 2952, 1120, 1199, 1449, 1169, 1483, 2277, 1934,  538,\n",
       "        627, 2530, 1059, 3189, 2785, 1212, 3379, 1178, 1007, 1504, 2162,\n",
       "       3318,  101, 3622]),\n",
       "       ...,\n",
       "       array([ 859, 3165,  346, 1288, 1007, 1066, 2511, 2872,  225, 1059, 1133,\n",
       "       1316, 2495, 1094]),\n",
       "       array([ 275,  107, 1886, 1139, 2809,  886, 2872, 2917, 1202, 3189, 2599,\n",
       "        894, 1152, 1184, 2586, 2203,  963, 2656, 1107, 3314,  890, 1133,\n",
       "        872, 2857,  874, 2469, 1212, 2821, 3134,  949, 1006,  848, 1173,\n",
       "       3165, 1993, 1754,  884,  457,  855, 2097, 1048, 2814, 1504, 3238,\n",
       "        713, 1120, 1025, 1906,  858, 2368, 3311,  839,  857, 1190,  838,\n",
       "        902, 1767, 1771, 1902, 1281,  104, 1009,  840, 1915,  877, 1016,\n",
       "       1899,  740, 1011, 1314,  193,  843, 1122,  889, 1784, 2024, 2026,\n",
       "        845, 2221, 1543,  865, 1146,  862,  802,  861, 1162]),\n",
       "       array([ 802, 2191, 1781, 1839, 1316,  207, 1586,  851,  858, 2309,  513,\n",
       "        628,  309, 1160, 3063,  721, 2651,  593, 2203,  316, 1848,   16,\n",
       "       2557,  239, 2488, 1485,  291, 1293,  535,  548,  258, 1260,  228,\n",
       "        240,  432, 1022,   49,   44,  156,  338, 2383, 1556, 1656, 2198,\n",
       "        347, 1504, 1100, 1135, 1207, 2852, 2652, 2317, 3309, 1201, 1204,\n",
       "       3192, 1148, 1167, 1208, 1106, 1108, 1109, 2156, 2853, 1196, 1215,\n",
       "       1295, 1018, 1096, 3288, 1782, 2586, 1025, 2857, 1110, 1193, 1007,\n",
       "       2775, 1275, 1120, 1277, 2511, 1969, 1154, 3190, 2885, 2545, 1213,\n",
       "       1224, 2645, 3115, 3318, 2707, 1199, 1203, 3217,  578, 1130, 1526,\n",
       "       1047, 1919, 1831, 2777, 2803, 2540, 2541, 2094, 2176, 1842, 2773,\n",
       "       2597, 3291, 1953, 1811, 1823, 1085, 1930, 1841, 2512, 2546, 2589,\n",
       "       2185, 2263, 1274, 2218, 2804, 2215, 2051, 1019, 2209, 2228, 1966,\n",
       "       3004, 1138, 2881,  852, 2873,  253, 3038, 1104,  713,  847, 1146,\n",
       "       1155, 1139,  297, 1118, 1162, 1184, 1830, 1144, 1749, 1123, 1129,\n",
       "       1032, 2730, 2981, 1059, 2400, 1158,  287, 2097, 1159, 1188,   78,\n",
       "       2918, 2523,  863, 1084,   35,  689,  869, 1765, 1113, 3130, 1008,\n",
       "        859,   29, 1171,  324,  855,  917, 2762, 1500, 2785, 1031,  148,\n",
       "        976, 3493, 2410, 2443, 1342, 3271, 2111, 3107,  256,   31, 1152,\n",
       "        690, 1256, 1786,  754,  931, 1172, 2058, 2246, 3313, 1132, 1774,\n",
       "       2202, 1783, 1559, 1157, 2108, 2867, 3575, 1099, 3461,  363, 1537,\n",
       "       1181,  521,  481, 1005, 2965, 2378, 1122, 3189, 1166, 1178, 1887,\n",
       "       1767, 1236,  892, 2520, 1741, 1618,  155, 1131])], dtype=object)"
      ]
     },
     "execution_count": 16,
     "metadata": {},
     "output_type": "execute_result"
    }
   ],
   "source": [
    "user_items"
   ]
  },
  {
   "cell_type": "code",
   "execution_count": null,
   "metadata": {},
   "outputs": [],
   "source": []
  }
 ],
 "metadata": {
  "kernelspec": {
   "display_name": "Python 3",
   "language": "python",
   "name": "python3"
  },
  "language_info": {
   "codemirror_mode": {
    "name": "ipython",
    "version": 3
   },
   "file_extension": ".py",
   "mimetype": "text/x-python",
   "name": "python",
   "nbconvert_exporter": "python",
   "pygments_lexer": "ipython3",
   "version": "3.6.8"
  }
 },
 "nbformat": 4,
 "nbformat_minor": 2
}
