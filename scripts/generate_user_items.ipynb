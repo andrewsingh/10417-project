{
 "cells": [
  {
   "cell_type": "code",
   "execution_count": 24,
   "metadata": {},
   "outputs": [],
   "source": [
    "import torch\n",
    "import pandas as pd\n",
    "import pickle\n",
    "import numpy as np\n",
    "import time"
   ]
  },
  {
   "cell_type": "code",
   "execution_count": 25,
   "metadata": {},
   "outputs": [],
   "source": [
    "ratings = pd.read_pickle(\"../data/ml-20m-split/train.pkl\")"
   ]
  },
  {
   "cell_type": "code",
   "execution_count": 26,
   "metadata": {},
   "outputs": [],
   "source": [
    "interactions = ratings.drop([\"item_id\", \"rating\"], axis=1)"
   ]
  },
  {
   "cell_type": "code",
   "execution_count": 27,
   "metadata": {},
   "outputs": [],
   "source": [
    "interactions_sorted = interactions.sort_values(by=[\"user\", \"timestamp\"])"
   ]
  },
  {
   "cell_type": "code",
   "execution_count": 50,
   "metadata": {},
   "outputs": [
    {
     "name": "stdout",
     "output_type": "stream",
     "text": [
      "10000\n",
      "20000\n",
      "30000\n",
      "40000\n",
      "50000\n",
      "60000\n",
      "70000\n",
      "80000\n",
      "90000\n",
      "100000\n",
      "110000\n",
      "120000\n",
      "130000\n",
      "138493\n"
     ]
    }
   ],
   "source": [
    "prev_user = 0\n",
    "prev_list = []\n",
    "user_items = []\n",
    "i = 1\n",
    "for row in interactions_sorted.itertuples(index=False):\n",
    "  if row.user == prev_user:\n",
    "    prev_list.append(row.item)\n",
    "  else:\n",
    "    i += 1\n",
    "    if row.user != prev_user + 1:\n",
    "      print(\"BREAK\")\n",
    "      print(row.user)\n",
    "      print(prev_user)\n",
    "      \n",
    "    assert(row.user == prev_user + 1)\n",
    "    assert(len(prev_list) > 0)\n",
    "    user_items.append(np.asarray(prev_list))\n",
    "    prev_list = [row.item]\n",
    "    prev_user = row.user\n",
    "    if prev_user % 10000 == 0:\n",
    "      print(prev_user)\n",
    "\n",
    "\n",
    "user_items.append(np.asarray(prev_list))\n",
    "      \n",
    "print(i)"
   ]
  },
  {
   "cell_type": "code",
   "execution_count": 51,
   "metadata": {},
   "outputs": [],
   "source": [
    "user_items = np.asarray(user_items)"
   ]
  },
  {
   "cell_type": "code",
   "execution_count": 52,
   "metadata": {},
   "outputs": [
    {
     "data": {
      "text/plain": [
       "138493"
      ]
     },
     "execution_count": 52,
     "metadata": {},
     "output_type": "execute_result"
    }
   ],
   "source": [
    "len(user_items)"
   ]
  },
  {
   "cell_type": "code",
   "execution_count": 53,
   "metadata": {},
   "outputs": [],
   "source": [
    "np.save(\"../data/user_items_numpy.npy\", user_items)"
   ]
  },
  {
   "cell_type": "code",
   "execution_count": 101,
   "metadata": {},
   "outputs": [],
   "source": [
    "with open(\"../data/user_items.pkl\", \"wb\") as f:\n",
    "  pickle.dump(user_items, f)"
   ]
  },
  {
   "cell_type": "code",
   "execution_count": 33,
   "metadata": {},
   "outputs": [
    {
     "data": {
      "text/plain": [
       "138492"
      ]
     },
     "execution_count": 33,
     "metadata": {},
     "output_type": "execute_result"
    }
   ],
   "source": [
    "len(user_items)"
   ]
  },
  {
   "cell_type": "code",
   "execution_count": 39,
   "metadata": {},
   "outputs": [
    {
     "data": {
      "text/html": [
       "<div>\n",
       "<style scoped>\n",
       "    .dataframe tbody tr th:only-of-type {\n",
       "        vertical-align: middle;\n",
       "    }\n",
       "\n",
       "    .dataframe tbody tr th {\n",
       "        vertical-align: top;\n",
       "    }\n",
       "\n",
       "    .dataframe thead th {\n",
       "        text-align: right;\n",
       "    }\n",
       "</style>\n",
       "<table border=\"1\" class=\"dataframe\">\n",
       "  <thead>\n",
       "    <tr style=\"text-align: right;\">\n",
       "      <th></th>\n",
       "      <th>user</th>\n",
       "      <th>item</th>\n",
       "      <th>timestamp</th>\n",
       "    </tr>\n",
       "  </thead>\n",
       "  <tbody>\n",
       "    <tr>\n",
       "      <th>19</th>\n",
       "      <td>0</td>\n",
       "      <td>902</td>\n",
       "      <td>1094785621</td>\n",
       "    </tr>\n",
       "    <tr>\n",
       "      <th>86</th>\n",
       "      <td>0</td>\n",
       "      <td>2597</td>\n",
       "      <td>1094785650</td>\n",
       "    </tr>\n",
       "    <tr>\n",
       "      <th>61</th>\n",
       "      <td>0</td>\n",
       "      <td>1532</td>\n",
       "      <td>1094785656</td>\n",
       "    </tr>\n",
       "    <tr>\n",
       "      <th>18</th>\n",
       "      <td>0</td>\n",
       "      <td>645</td>\n",
       "      <td>1094785691</td>\n",
       "    </tr>\n",
       "    <tr>\n",
       "      <th>96</th>\n",
       "      <td>0</td>\n",
       "      <td>2873</td>\n",
       "      <td>1094785698</td>\n",
       "    </tr>\n",
       "    <tr>\n",
       "      <th>...</th>\n",
       "      <td>...</td>\n",
       "      <td>...</td>\n",
       "      <td>...</td>\n",
       "    </tr>\n",
       "    <tr>\n",
       "      <th>20000213</th>\n",
       "      <td>138492</td>\n",
       "      <td>10593</td>\n",
       "      <td>1260209726</td>\n",
       "    </tr>\n",
       "    <tr>\n",
       "      <th>20000187</th>\n",
       "      <td>138492</td>\n",
       "      <td>9271</td>\n",
       "      <td>1260209807</td>\n",
       "    </tr>\n",
       "    <tr>\n",
       "      <th>20000140</th>\n",
       "      <td>138492</td>\n",
       "      <td>6424</td>\n",
       "      <td>1260209908</td>\n",
       "    </tr>\n",
       "    <tr>\n",
       "      <th>19999965</th>\n",
       "      <td>138492</td>\n",
       "      <td>1247</td>\n",
       "      <td>1262378552</td>\n",
       "    </tr>\n",
       "    <tr>\n",
       "      <th>19999916</th>\n",
       "      <td>138492</td>\n",
       "      <td>401</td>\n",
       "      <td>1262378572</td>\n",
       "    </tr>\n",
       "  </tbody>\n",
       "</table>\n",
       "<p>13999448 rows × 3 columns</p>\n",
       "</div>"
      ],
      "text/plain": [
       "            user   item   timestamp\n",
       "19             0    902  1094785621\n",
       "86             0   2597  1094785650\n",
       "61             0   1532  1094785656\n",
       "18             0    645  1094785691\n",
       "96             0   2873  1094785698\n",
       "...          ...    ...         ...\n",
       "20000213  138492  10593  1260209726\n",
       "20000187  138492   9271  1260209807\n",
       "20000140  138492   6424  1260209908\n",
       "19999965  138492   1247  1262378552\n",
       "19999916  138492    401  1262378572\n",
       "\n",
       "[13999448 rows x 3 columns]"
      ]
     },
     "execution_count": 39,
     "metadata": {},
     "output_type": "execute_result"
    }
   ],
   "source": [
    "interactions_sorted"
   ]
  },
  {
   "cell_type": "code",
   "execution_count": null,
   "metadata": {},
   "outputs": [],
   "source": []
  }
 ],
 "metadata": {
  "kernelspec": {
   "display_name": "Python 3",
   "language": "python",
   "name": "python3"
  },
  "language_info": {
   "codemirror_mode": {
    "name": "ipython",
    "version": 3
   },
   "file_extension": ".py",
   "mimetype": "text/x-python",
   "name": "python",
   "nbconvert_exporter": "python",
   "pygments_lexer": "ipython3",
   "version": "3.6.8"
  }
 },
 "nbformat": 4,
 "nbformat_minor": 2
}
