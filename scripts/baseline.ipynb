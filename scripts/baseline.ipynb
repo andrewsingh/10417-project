{
 "cells": [
  {
   "cell_type": "code",
   "execution_count": 25,
   "metadata": {},
   "outputs": [],
   "source": [
    "# groupby(\"user\").size()\n",
    "\n",
    "import torch\n",
    "import lenskit\n",
    "import pandas as pd\n",
    "\n",
    "import lenskit.crossfold as xf"
   ]
  },
  {
   "cell_type": "code",
   "execution_count": 26,
   "metadata": {},
   "outputs": [],
   "source": [
    "ratings = pd.read_csv(\"10417-project/data/ml-20m/ratings.csv\")"
   ]
  },
  {
   "cell_type": "code",
   "execution_count": 27,
   "metadata": {},
   "outputs": [],
   "source": [
    "ratings = ratings.rename(columns={'userId': 'user', 'movieId': 'item'})"
   ]
  },
  {
   "cell_type": "code",
   "execution_count": null,
   "metadata": {},
   "outputs": [],
   "source": [
    "split1 = xf.partition_users(ratings, 1, xf.LastFrac(0.3))\n",
    "train_valtest = next(split1)\n",
    "train = train_valtest.train\n",
    "valtest = train_valtest.test"
   ]
  },
  {
   "cell_type": "code",
   "execution_count": null,
   "metadata": {},
   "outputs": [],
   "source": [
    "split2 = xf.partition_users(valtest, 1, xf.LastFrac(0.5))\n",
    "val_test = next(split2)\n",
    "val = val_test.train\n",
    "test = val_test.test"
   ]
  },
  {
   "cell_type": "code",
   "execution_count": null,
   "metadata": {},
   "outputs": [],
   "source": []
  }
 ],
 "metadata": {
  "kernelspec": {
   "display_name": "Python 3",
   "language": "python",
   "name": "python3"
  },
  "language_info": {
   "codemirror_mode": {
    "name": "ipython",
    "version": 3
   },
   "file_extension": ".py",
   "mimetype": "text/x-python",
   "name": "python",
   "nbconvert_exporter": "python",
   "pygments_lexer": "ipython3",
   "version": "3.6.9"
  }
 },
 "nbformat": 4,
 "nbformat_minor": 2
}
